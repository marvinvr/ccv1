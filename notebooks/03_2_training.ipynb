{
 "cells": [
  {
   "attachments": {},
   "cell_type": "markdown",
   "metadata": {},
   "source": [
    "# Run Model\n"
   ]
  },
  {
   "attachments": {},
   "cell_type": "markdown",
   "metadata": {},
   "source": [
    "## Imports\n"
   ]
  },
  {
   "cell_type": "code",
   "execution_count": 1,
   "metadata": {},
   "outputs": [],
   "source": [
    "%load_ext autoreload\n",
    "\n",
    "%autoreload 2"
   ]
  },
  {
   "cell_type": "code",
   "execution_count": 2,
   "metadata": {},
   "outputs": [],
   "source": [
    "import helpers.set_path  # needs to be there to set the correct project path\n",
    "\n",
    "import pandas as pd\n",
    "\n",
    "from src.data.load_data import (\n",
    "    get_train_loader,\n",
    "    get_val_loader,\n",
    "    get_test_loader,\n",
    "    classes,\n",
    ")\n",
    "from src.data.format_submissions import format_submissions\n",
    "\n",
    "from pathlib import Path\n",
    "from pytorch_lightning import Trainer, seed_everything\n",
    "from pytorch_lightning.loggers import WandbLogger\n",
    "from pytorch_lightning.callbacks import EarlyStopping, ModelCheckpoint\n",
    "\n",
    "import wandb\n",
    "import torch\n",
    "import os"
   ]
  },
  {
   "cell_type": "code",
   "execution_count": 3,
   "metadata": {},
   "outputs": [],
   "source": [
    "from src.models import DensenetModel as Model\n",
    "\n",
    "sweep_config = {\n",
    "    \"name\": f\"{Model.__name__}_sweep\",\n",
    "    \"method\": \"grid\",\n",
    "    \"metric\": {\"name\": \"val_loss\", \"goal\": \"minimize\"},\n",
    "    \"parameters\": {\n",
    "        \"batch_size\": {\"values\": [32]},\n",
    "        \"image_size\": {\"values\": [224, 264]},\n",
    "        \"lr\": {\"value\": 5e-6},\n",
    "        \"dropout\": {\"values\": [0, 0.05, 0.1, 0.15]},\n",
    "        \"crop_threshold\": {\"values\": [0.05, 0.1]},\n",
    "    },\n",
    "}\n",
    "\n",
    "MAX_EPOCHS = 100\n",
    "DELETE_MODEL_CHECKPOINTS = True"
   ]
  },
  {
   "attachments": {},
   "cell_type": "markdown",
   "metadata": {},
   "source": [
    "## Run Training\n"
   ]
  },
  {
   "cell_type": "code",
   "execution_count": 4,
   "metadata": {},
   "outputs": [
    {
     "name": "stderr",
     "output_type": "stream",
     "text": [
      "Failed to detect the name of this notebook, you can set it manually with the WANDB_NOTEBOOK_NAME environment variable to enable code saving.\n"
     ]
    },
    {
     "name": "stdout",
     "output_type": "stream",
     "text": [
      "Create sweep with ID: 3cdjj5si\n",
      "Sweep URL: https://wandb.ai/safari_squad/ccv1/sweeps/3cdjj5si\n"
     ]
    }
   ],
   "source": [
    "sweep_id = wandb.sweep(sweep=sweep_config, project=\"ccv1\", entity=\"safari_squad\")\n",
    "\n",
    "\n",
    "def train_sweep():\n",
    "    seed_everything(42)\n",
    "    torch.set_float32_matmul_precision(\"high\")\n",
    "\n",
    "    run = wandb.init(name=Model.__name__)\n",
    "    config = run.config\n",
    "\n",
    "    model = Model(\n",
    "        batch_size=config.batch_size,\n",
    "        image_size=config.image_size,\n",
    "        crop_threshold=config.crop_threshold,\n",
    "        lr=config.lr,\n",
    "        dropout=config.dropout,\n",
    "    )\n",
    "\n",
    "    train_dataloader = get_train_loader(\n",
    "        config.batch_size, config.image_size, config.crop_threshold\n",
    "    )\n",
    "    val_dataloader = get_val_loader(\n",
    "        config.batch_size, config.image_size, config.crop_threshold\n",
    "    )\n",
    "    test_dataloader = get_test_loader(\n",
    "        config.batch_size, config.image_size, config.crop_threshold\n",
    "    )\n",
    "\n",
    "    wandb_logger = WandbLogger(\n",
    "        project=\"ccv1\", entity=\"safari_squad\", name=Model.__name__\n",
    "    )\n",
    "    trainer = Trainer(\n",
    "        max_epochs=MAX_EPOCHS,\n",
    "        accelerator=\"gpu\",\n",
    "        logger=wandb_logger,\n",
    "        callbacks=[\n",
    "            EarlyStopping(monitor=\"val_loss\", mode=\"min\", patience=3),\n",
    "            ModelCheckpoint(\n",
    "                dirpath=Path(\"../models/checkpoints\"),\n",
    "                filename=f\"{model.__class__.__name__}_{wandb_logger.version}\",\n",
    "                monitor=\"val_loss\",\n",
    "                mode=\"min\",\n",
    "                save_top_k=1,\n",
    "            ),\n",
    "        ],\n",
    "    )\n",
    "\n",
    "    trainer.fit(\n",
    "        model, train_dataloaders=train_dataloader, val_dataloaders=val_dataloader\n",
    "    )\n",
    "\n",
    "    best_model = model.load_from_checkpoint(trainer.checkpoint_callback.best_model_path)\n",
    "\n",
    "    submissions = format_submissions(\n",
    "        trainer.predict(best_model, dataloaders=test_dataloader), classes\n",
    "    )\n",
    "\n",
    "    trainer.validate(best_model, dataloaders=val_dataloader)\n",
    "\n",
    "    if DELETE_MODEL_CHECKPOINTS:\n",
    "        os.remove(trainer.checkpoint_callback.best_model_path)\n",
    "\n",
    "    wandb_logger.log_text(\"submission\", dataframe=submissions)\n",
    "\n",
    "    wandb.finish()"
   ]
  },
  {
   "cell_type": "code",
   "execution_count": 5,
   "metadata": {},
   "outputs": [
    {
     "name": "stderr",
     "output_type": "stream",
     "text": [
      "\u001b[34m\u001b[1mwandb\u001b[0m: Agent Starting Run: v95g7ndv with config:\n",
      "\u001b[34m\u001b[1mwandb\u001b[0m: \tbatch_size: 32\n",
      "\u001b[34m\u001b[1mwandb\u001b[0m: \tcrop_threshold: 0.05\n",
      "\u001b[34m\u001b[1mwandb\u001b[0m: \tdropout: 0\n",
      "\u001b[34m\u001b[1mwandb\u001b[0m: \timage_size: 264\n",
      "\u001b[34m\u001b[1mwandb\u001b[0m: \tlr: 5e-06\n",
      "Global seed set to 42\n",
      "Failed to detect the name of this notebook, you can set it manually with the WANDB_NOTEBOOK_NAME environment variable to enable code saving.\n",
      "\u001b[34m\u001b[1mwandb\u001b[0m: Currently logged in as: \u001b[33mmarvinvr\u001b[0m (\u001b[33msafari_squad\u001b[0m). Use \u001b[1m`wandb login --relogin`\u001b[0m to force relogin\n"
     ]
    },
    {
     "data": {
      "text/html": [
       "wandb version 0.15.3 is available!  To upgrade, please run:\n",
       " $ pip install wandb --upgrade"
      ],
      "text/plain": [
       "<IPython.core.display.HTML object>"
      ]
     },
     "metadata": {},
     "output_type": "display_data"
    },
    {
     "data": {
      "text/html": [
       "Tracking run with wandb version 0.15.0"
      ],
      "text/plain": [
       "<IPython.core.display.HTML object>"
      ]
     },
     "metadata": {},
     "output_type": "display_data"
    },
    {
     "data": {
      "text/html": [
       "Run data is saved locally in <code>/home/mvr/Development/FHNW/ccv1/notebooks/wandb/run-20230530_140509-v95g7ndv</code>"
      ],
      "text/plain": [
       "<IPython.core.display.HTML object>"
      ]
     },
     "metadata": {},
     "output_type": "display_data"
    },
    {
     "data": {
      "text/html": [
       "Syncing run <strong><a href='https://wandb.ai/safari_squad/ccv1/runs/v95g7ndv' target=\"_blank\">DensenetModel</a></strong> to <a href='https://wandb.ai/safari_squad/ccv1' target=\"_blank\">Weights & Biases</a> (<a href='https://wandb.me/run' target=\"_blank\">docs</a>)<br/>Sweep page: <a href='https://wandb.ai/safari_squad/ccv1/sweeps/3cdjj5si' target=\"_blank\">https://wandb.ai/safari_squad/ccv1/sweeps/3cdjj5si</a>"
      ],
      "text/plain": [
       "<IPython.core.display.HTML object>"
      ]
     },
     "metadata": {},
     "output_type": "display_data"
    },
    {
     "data": {
      "text/html": [
       " View project at <a href='https://wandb.ai/safari_squad/ccv1' target=\"_blank\">https://wandb.ai/safari_squad/ccv1</a>"
      ],
      "text/plain": [
       "<IPython.core.display.HTML object>"
      ]
     },
     "metadata": {},
     "output_type": "display_data"
    },
    {
     "data": {
      "text/html": [
       " View sweep at <a href='https://wandb.ai/safari_squad/ccv1/sweeps/3cdjj5si' target=\"_blank\">https://wandb.ai/safari_squad/ccv1/sweeps/3cdjj5si</a>"
      ],
      "text/plain": [
       "<IPython.core.display.HTML object>"
      ]
     },
     "metadata": {},
     "output_type": "display_data"
    },
    {
     "data": {
      "text/html": [
       " View run at <a href='https://wandb.ai/safari_squad/ccv1/runs/v95g7ndv' target=\"_blank\">https://wandb.ai/safari_squad/ccv1/runs/v95g7ndv</a>"
      ],
      "text/plain": [
       "<IPython.core.display.HTML object>"
      ]
     },
     "metadata": {},
     "output_type": "display_data"
    },
    {
     "name": "stderr",
     "output_type": "stream",
     "text": [
      "/home/mvr/miniconda3/envs/ccv1-gpu/lib/python3.10/site-packages/pytorch_lightning/loggers/wandb.py:395: UserWarning: There is a wandb run already in progress and newly created instances of `WandbLogger` will reuse this run. If this is not desired, call `wandb.finish()` before instantiating `WandbLogger`.\n",
      "  rank_zero_warn(\n",
      "GPU available: True (cuda), used: True\n",
      "TPU available: False, using: 0 TPU cores\n",
      "IPU available: False, using: 0 IPUs\n",
      "HPU available: False, using: 0 HPUs\n",
      "/home/mvr/miniconda3/envs/ccv1-gpu/lib/python3.10/site-packages/pytorch_lightning/callbacks/model_checkpoint.py:612: UserWarning: Checkpoint directory /home/mvr/Development/FHNW/ccv1/models exists and is not empty.\n",
      "  rank_zero_warn(f\"Checkpoint directory {dirpath} exists and is not empty.\")\n",
      "LOCAL_RANK: 0 - CUDA_VISIBLE_DEVICES: [0]\n",
      "\n",
      "  | Name        | Type              | Params\n",
      "--------------------------------------------------\n",
      "0 | loss        | CrossEntropyLoss  | 0     \n",
      "1 | f1_weighted | MulticlassF1Score | 0     \n",
      "2 | f1_micro    | MulticlassF1Score | 0     \n",
      "3 | f1_macro    | MulticlassF1Score | 0     \n",
      "4 | model       | DenseNet          | 26.5 M\n",
      "--------------------------------------------------\n",
      "26.5 M    Trainable params\n",
      "0         Non-trainable params\n",
      "26.5 M    Total params\n",
      "105.959   Total estimated model params size (MB)\n",
      "\u001b[34m\u001b[1mwandb\u001b[0m: \u001b[33mWARNING\u001b[0m Config item 'batch_size' was locked by 'sweep' (ignored update).\n",
      "\u001b[34m\u001b[1mwandb\u001b[0m: \u001b[33mWARNING\u001b[0m Config item 'image_size' was locked by 'sweep' (ignored update).\n",
      "\u001b[34m\u001b[1mwandb\u001b[0m: \u001b[33mWARNING\u001b[0m Config item 'lr' was locked by 'sweep' (ignored update).\n",
      "\u001b[34m\u001b[1mwandb\u001b[0m: \u001b[33mWARNING\u001b[0m Config item 'dropout' was locked by 'sweep' (ignored update).\n",
      "\u001b[34m\u001b[1mwandb\u001b[0m: \u001b[33mWARNING\u001b[0m Config item 'crop_threshold' was locked by 'sweep' (ignored update).\n"
     ]
    },
    {
     "name": "stdout",
     "output_type": "stream",
     "text": [
      "Epoch 7: 100%|██████████| 372/372 [00:57<00:00,  6.52it/s, v_num=7ndv]     "
     ]
    },
    {
     "name": "stderr",
     "output_type": "stream",
     "text": [
      "\u001b[34m\u001b[1mwandb\u001b[0m: Ctrl + C detected. Stopping sweep.\n"
     ]
    },
    {
     "name": "stdout",
     "output_type": "stream",
     "text": [
      "Epoch 7: 100%|██████████| 372/372 [01:04<00:00,  5.80it/s, v_num=7ndv]\n"
     ]
    },
    {
     "name": "stderr",
     "output_type": "stream",
     "text": [
      "LOCAL_RANK: 0 - CUDA_VISIBLE_DEVICES: [0]\n",
      "\u001b[34m\u001b[1mwandb\u001b[0m: \u001b[33mWARNING\u001b[0m Config item 'batch_size' was locked by 'sweep' (ignored update).\n",
      "\u001b[34m\u001b[1mwandb\u001b[0m: \u001b[33mWARNING\u001b[0m Config item 'image_size' was locked by 'sweep' (ignored update).\n",
      "\u001b[34m\u001b[1mwandb\u001b[0m: \u001b[33mWARNING\u001b[0m Config item 'lr' was locked by 'sweep' (ignored update).\n",
      "\u001b[34m\u001b[1mwandb\u001b[0m: \u001b[33mWARNING\u001b[0m Config item 'dropout' was locked by 'sweep' (ignored update).\n",
      "\u001b[34m\u001b[1mwandb\u001b[0m: \u001b[33mWARNING\u001b[0m Config item 'crop_threshold' was locked by 'sweep' (ignored update).\n"
     ]
    },
    {
     "name": "stdout",
     "output_type": "stream",
     "text": [
      "Predicting: 0it [00:00, ?it/s]"
     ]
    }
   ],
   "source": [
    "# Run the sweep agent\n",
    "wandb.agent(sweep_id, function=train_sweep)"
   ]
  },
  {
   "cell_type": "code",
   "execution_count": null,
   "metadata": {},
   "outputs": [],
   "source": []
  }
 ],
 "metadata": {
  "kernelspec": {
   "display_name": "Python 3 (ipykernel)",
   "language": "python",
   "name": "python3"
  },
  "language_info": {
   "codemirror_mode": {
    "name": "ipython",
    "version": 3
   },
   "file_extension": ".py",
   "mimetype": "text/x-python",
   "name": "python",
   "nbconvert_exporter": "python",
   "pygments_lexer": "ipython3",
   "version": "3.10.11"
  }
 },
 "nbformat": 4,
 "nbformat_minor": 2
}
